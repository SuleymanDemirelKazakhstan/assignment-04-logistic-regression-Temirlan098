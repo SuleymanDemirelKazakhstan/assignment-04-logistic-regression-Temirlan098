{
 "cells": [
  {
   "cell_type": "code",
   "execution_count": 1,
   "id": "e32519de",
   "metadata": {
    "scrolled": false
   },
   "outputs": [
    {
     "name": "stdout",
     "output_type": "stream",
     "text": [
      "Disaster Tweets:\n",
      "                                                text\n",
      "0   There has been a massive earthquake in the city!\n",
      "1  The hurricane caused widespread destruction in...\n",
      "2  A tornado touched down in the town, causing si...\n",
      "3  Breaking news: explosion reported in downtown ...\n",
      "4  Floods have submerged several neighborhoods af...\n",
      "\n",
      "Normal Tweets:\n",
      "                                                text\n",
      "0  Beautiful weather today! Perfect for a picnic ...\n",
      "1          Just finished a great workout at the gym.\n",
      "2  Excited to watch the new movie that just came ...\n",
      "3    Had a delicious dinner with friends last night.\n",
      "4  Enjoying a relaxing day at home with a good book.\n"
     ]
    }
   ],
   "source": [
    "import pandas as pd\n",
    "import numpy as np\n",
    "\n",
    "disaster_tweets_data = [\n",
    "    \"There has been a massive earthquake in the city!\",\n",
    "    \"The hurricane caused widespread destruction in the coastal areas.\",\n",
    "    \"A tornado touched down in the town, causing significant damage.\",\n",
    "    \"Breaking news: explosion reported in downtown area.\",\n",
    "    \"Floods have submerged several neighborhoods after heavy rainfall.\",\n",
    "    \"Firefighters are battling a large wildfire on the outskirts of the city.\",\n",
    "    \"A major accident on the highway has caused traffic chaos.\",\n",
    "    \"The building collapsed, trapping people inside.\",\n",
    "    \"Emergency services are responding to a chemical spill.\",\n",
    "    \"A train derailment has resulted in multiple casualties.\"\n",
    "]\n",
    "\n",
    "normal_tweets_data = [\n",
    "    \"Beautiful weather today! Perfect for a picnic in the park.\",\n",
    "    \"Just finished a great workout at the gym.\",\n",
    "    \"Excited to watch the new movie that just came out!\",\n",
    "    \"Had a delicious dinner with friends last night.\",\n",
    "    \"Enjoying a relaxing day at home with a good book.\",\n",
    "    \"Looking forward to the weekend!\",\n",
    "    \"Spent the day exploring the city.\",\n",
    "    \"Feeling grateful for all the blessings in my life.\",\n",
    "    \"Ready for a fresh start!\",\n",
    "    \"Listening to my favorite music and feeling good.\"\n",
    "]\n",
    "\n",
    "# Create dataframes\n",
    "disaster_tweets = pd.DataFrame({\"text\": disaster_tweets_data})\n",
    "normal_tweets = pd.DataFrame({\"text\": normal_tweets_data})\n",
    "\n",
    "# Display the first few rows of each dataframe\n",
    "print(\"Disaster Tweets:\")\n",
    "print(disaster_tweets.head())\n",
    "print(\"\\nNormal Tweets:\")\n",
    "print(normal_tweets.head())\n"
   ]
  },
  {
   "cell_type": "code",
   "execution_count": 2,
   "id": "0e7368f9",
   "metadata": {},
   "outputs": [],
   "source": [
    "from nltk import word_tokenize\n",
    "from nltk import WordNetLemmatizer\n",
    "from collections import Counter\n",
    "from nltk import ngrams\n",
    "\n",
    "# Lemmatize words\n",
    "lemmatizer = WordNetLemmatizer()\n",
    "\n",
    "def lemmatize_text(text):\n",
    "    tokens = word_tokenize(text)\n",
    "    lemmatized_tokens = [lemmatizer.lemmatize(token) for token in tokens]\n",
    "    return ' '.join(lemmatized_tokens)\n",
    "\n",
    "disaster_tweets['lemmatized_text'] = disaster_tweets['text'].apply(lemmatize_text)\n",
    "normal_tweets['lemmatized_text'] = normal_tweets['text'].apply(lemmatize_text)\n",
    "\n",
    "# Count occurrences of each word\n",
    "disaster_word_counts = Counter(word_tokenize(' '.join(disaster_tweets['lemmatized_text'])))\n",
    "normal_word_counts = Counter(word_tokenize(' '.join(normal_tweets['lemmatized_text'])))\n",
    "\n",
    "# Top 20 words by occurrence\n",
    "top_disaster_words = disaster_word_counts.most_common(20)\n",
    "top_normal_words = normal_word_counts.most_common(20)\n",
    "\n",
    "# Find bigrams and trigrams\n",
    "disaster_bigrams = list(ngrams(word_tokenize(' '.join(disaster_tweets['lemmatized_text'])), 2))\n",
    "disaster_trigrams = list(ngrams(word_tokenize(' '.join(disaster_tweets['lemmatized_text'])), 3))\n",
    "normal_bigrams = list(ngrams(word_tokenize(' '.join(normal_tweets['lemmatized_text'])), 2))\n",
    "normal_trigrams = list(ngrams(word_tokenize(' '.join(normal_tweets['lemmatized_text'])), 3))\n",
    "\n",
    "# Top 20 bigrams and trigrams\n",
    "top_disaster_bigrams = Counter(disaster_bigrams).most_common(20)\n",
    "top_disaster_trigrams = Counter(disaster_trigrams).most_common(20)\n",
    "top_normal_bigrams = Counter(normal_bigrams).most_common(20)\n",
    "top_normal_trigrams = Counter(normal_trigrams).most_common(20)\n"
   ]
  },
  {
   "cell_type": "code",
   "execution_count": 3,
   "id": "ad68ec9a",
   "metadata": {},
   "outputs": [
    {
     "name": "stderr",
     "output_type": "stream",
     "text": [
      "[nltk_data] Downloading package stopwords to\n",
      "[nltk_data]     C:\\Users\\user\\AppData\\Roaming\\nltk_data...\n",
      "[nltk_data]   Package stopwords is already up-to-date!\n"
     ]
    },
    {
     "data": {
      "text/plain": [
       "True"
      ]
     },
     "execution_count": 3,
     "metadata": {},
     "output_type": "execute_result"
    }
   ],
   "source": [
    "import nltk \n",
    "nltk.download('stopwords')"
   ]
  },
  {
   "cell_type": "code",
   "execution_count": 4,
   "id": "d1f5c7f5",
   "metadata": {},
   "outputs": [],
   "source": [
    "import re\n",
    "import nltk \n",
    "from nltk.corpus import stopwords\n",
    "\n",
    "def preprocess_text(text):\n",
    "    # Remove mentions\n",
    "    text = re.sub(r'@\\S+', '', text)\n",
    "    # Remove punctuations and special characters\n",
    "    text = re.sub(r'[^\\w\\s]', '', text)\n",
    "    # Convert to lowercase\n",
    "    text = text.lower()\n",
    "    # Remove stop words\n",
    "    stop_words = set(stopwords.words('english'))\n",
    "    tokens = word_tokenize(text)\n",
    "    filtered_tokens = [token for token in tokens if token not in stop_words]\n",
    "    return ' '.join(filtered_tokens)\n",
    "\n",
    "disaster_tweets['preprocessed_text'] = disaster_tweets['lemmatized_text'].apply(preprocess_text)\n",
    "normal_tweets['preprocessed_text'] = normal_tweets['lemmatized_text'].apply(preprocess_text)\n"
   ]
  },
  {
   "cell_type": "code",
   "execution_count": 8,
   "id": "6a7a1c2c",
   "metadata": {},
   "outputs": [
    {
     "name": "stdout",
     "output_type": "stream",
     "text": [
      "Accuracy: 0.8\n",
      "F1 Score: 0.8\n",
      "Recall Score: 0.6666666666666666\n",
      "[1, 0, 1, 0, 0, 0, 1, 1, 0, 1, 0, 1, 0, 0, 1]\n"
     ]
    }
   ],
   "source": [
    "from sklearn.feature_extraction.text import CountVectorizer\n",
    "from sklearn.model_selection import train_test_split\n",
    "from sklearn.linear_model import LogisticRegression\n",
    "from sklearn.metrics import accuracy_score, f1_score, recall_score\n",
    "\n",
    "# Combine preprocessed tweets\n",
    "combined_tweets = pd.concat([disaster_tweets['preprocessed_text'], normal_tweets['preprocessed_text']], ignore_index=True)\n",
    "\n",
    "# Create labels\n",
    "labels = [1] * len(disaster_tweets) + [0] * len(normal_tweets)\n",
    "\n",
    "# Vectorize text\n",
    "vectorizer = CountVectorizer(max_features=1000)  \n",
    "X = vectorizer.fit_transform(combined_tweets)\n",
    "\n",
    "# Split data\n",
    "X_train, X_test, y_train, y_test = train_test_split(X, labels, test_size=0.25, random_state=42)\n",
    "\n",
    "# Logistic Regression\n",
    "logreg = LogisticRegression()\n",
    "logreg.fit(X_train, y_train)\n",
    "\n",
    "# Predictions\n",
    "y_pred = logreg.predict(X_test)\n",
    "\n",
    "# Evaluate model\n",
    "accuracy = accuracy_score(y_test, y_pred)\n",
    "f1 = f1_score(y_test, y_pred)\n",
    "recall = recall_score(y_test, y_pred)\n",
    "\n",
    "print(\"Accuracy:\", accuracy)\n",
    "print(\"F1 Score:\", f1)\n",
    "print(\"Recall Score:\", recall)\n",
    "\n",
    "print(y_train)\n"
   ]
  },
  {
   "cell_type": "code",
   "execution_count": 9,
   "id": "9bc4a0cd",
   "metadata": {},
   "outputs": [
    {
     "name": "stdout",
     "output_type": "stream",
     "text": [
      "[[2 0]\n",
      " [1 2]]\n"
     ]
    }
   ],
   "source": [
    "from sklearn.metrics import confusion_matrix\n",
    "import seaborn as sns\n",
    "import matplotlib.pyplot as plt\n",
    "\n",
    "# Confusion matrix\n",
    "cm = confusion_matrix(y_test, y_pred)\n",
    "print(cm)\n",
    "\n",
    "# # Plot confusion matrix\n",
    "# plt.figure(figsize=(8, 6))\n",
    "# sns.heatmap(cm, annot=True, fmt=\"d\", cmap=\"Blues\", xticklabels=['Normal', 'Disaster'], yticklabels=['Normal', 'Disaster'])\n",
    "# plt.xlabel('Predicted')\n",
    "# plt.ylabel('True')\n",
    "# plt.title('Confusion Matrix')\n",
    "# plt.show()\n"
   ]
  },
  {
   "cell_type": "code",
   "execution_count": null,
   "id": "13fb96cc",
   "metadata": {},
   "outputs": [],
   "source": []
  }
 ],
 "metadata": {
  "kernelspec": {
   "display_name": "Python 3 (ipykernel)",
   "language": "python",
   "name": "python3"
  },
  "language_info": {
   "codemirror_mode": {
    "name": "ipython",
    "version": 3
   },
   "file_extension": ".py",
   "mimetype": "text/x-python",
   "name": "python",
   "nbconvert_exporter": "python",
   "pygments_lexer": "ipython3",
   "version": "3.9.13"
  }
 },
 "nbformat": 4,
 "nbformat_minor": 5
}
